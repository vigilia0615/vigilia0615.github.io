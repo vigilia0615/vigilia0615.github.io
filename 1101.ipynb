{
 "cells": [
  {
   "cell_type": "markdown",
   "metadata": {},
   "source": [
    "宣傳新產品的廣告代理商希望就廣告達到的人數而言，獲得最大的曝光率。該機構將採用兩種方法：集中的互聯網廣告（每次廣告投放預計可吸引200,000人）和印刷媒體（每次廣告投放預計可達到80,000人）。每個Internet突發事件的成本為3,000美元，而每個平面媒體廣告的成本僅為900美元。已經同意，平面媒體廣告的數量將不超過互聯網突發數量的五倍。該機構希望至少發布5個且不超過15個互聯網廣告。廣告預算為$ 75.000鑑於這些限制，最有效的廣告策略是什麼？"
   ]
  },
  {
   "cell_type": "code",
   "execution_count": 20,
   "metadata": {},
   "outputs": [
    {
     "name": "stdout",
     "output_type": "stream",
     "text": [
      "互聯網廣告=10\n",
      "平面廣告=50\n",
      "$=6000000.0\n"
     ]
    }
   ],
   "source": [
    "\n",
    "from pulp import *\n",
    "\n",
    "prob = LpProblem(\"Textile\", LpMaximize)\n",
    "\n",
    "# 變數\n",
    "A = LpVariable(\"A\", lowBound=0, cat='Integer')\n",
    "B = LpVariable(\"B\", lowBound=0, cat='Integer')\n",
    "\n",
    "# 目標\n",
    "prob += 200000* A + 80000 * B\n",
    "prob += 3000 *A+900*B<=75000\n",
    "# 限制\n",
    "prob += A *5>=B*1\n",
    "prob += A*1>=5\n",
    "prob +=A*1<=15\n",
    "\n",
    "# 解算\n",
    "prob.writeLP(\"Textile.lp\")\n",
    "prob.solve()\n",
    "\n",
    "if prob.status == 1:\n",
    "    # 解答物件\n",
    "\n",
    "    for i in prob.variables():\n",
    "        if i.name == 'A':\n",
    "            Pants= i\n",
    "        elif i.name == 'B':\n",
    "            Jacket = i\n",
    "\n",
    "    print (\"互聯網廣告=%d\\n平面廣告=%d\\n$=%.1f\" %\n",
    "        (A.varValue,B.varValue,\n",
    "         value(prob.objective)))\n",
    "\n",
    "else:\n",
    "    print (\"FAIL\")"
   ]
  },
  {
   "cell_type": "markdown",
   "metadata": {},
   "source": [
    "minimize cost=$0.10A+$0.15B\n",
    "Subest to \n",
    "5A+10B>=45\n",
    "4A+3B>=24\n",
    "0.5A>=1.5\n",
    "A,B>=0"
   ]
  },
  {
   "cell_type": "code",
   "execution_count": 25,
   "metadata": {},
   "outputs": [
    {
     "name": "stdout",
     "output_type": "stream",
     "text": [
      "     con: array([], dtype=float64)\n",
      "     fun: 0.8454545454592667\n",
      " message: 'Optimization terminated successfully.'\n",
      "     nit: 5\n",
      "   slack: array([1.58337343e-10, 4.68645567e-10])\n",
      "  status: 0\n",
      " success: True\n",
      "       x: array([6.81818182, 1.09090909])\n"
     ]
    }
   ],
   "source": [
    "from scipy.optimize import linprog \n",
    "\n",
    "C = [0.10, 0.15]\n",
    "A = [[-5, -10], [-4, 3]]\n",
    "B = [-45, -24]\n",
    "x0_bounds = (3, None)\n",
    "x1_bounds = (0, None)\n",
    "\n",
    "res = linprog(C, A, B, bounds=[x0_bounds, x1_bounds])\n",
    "print(res)"
   ]
  },
  {
   "cell_type": "code",
   "execution_count": null,
   "metadata": {},
   "outputs": [],
   "source": []
  }
 ],
 "metadata": {
  "kernelspec": {
   "display_name": "Python 3",
   "language": "python",
   "name": "python3"
  },
  "language_info": {
   "codemirror_mode": {
    "name": "ipython",
    "version": 3
   },
   "file_extension": ".py",
   "mimetype": "text/x-python",
   "name": "python",
   "nbconvert_exporter": "python",
   "pygments_lexer": "ipython3",
   "version": "3.7.4"
  }
 },
 "nbformat": 4,
 "nbformat_minor": 2
}
